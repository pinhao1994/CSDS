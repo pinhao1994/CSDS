{
 "cells": [
  {
   "cell_type": "code",
   "execution_count": 58,
   "metadata": {
    "collapsed": true
   },
   "outputs": [],
   "source": [
    "from pyspark.mllib.recommendation import *\n",
    "from operator import *\n",
    "from pyspark.sql.types import *"
   ]
  },
  {
   "cell_type": "code",
   "execution_count": 2,
   "metadata": {},
   "outputs": [],
   "source": [
    "user_artist_data = sc.textFile(\"profiledata_06-May-2005/user_artist_data.txt\")\n",
    "artist_data = sc.textFile(\"profiledata_06-May-2005/artist_data.txt\")\n",
    "artist_alias_data = sc.textFile(\"profiledata_06-May-2005/artist_alias.txt\")"
   ]
  },
  {
   "cell_type": "code",
   "execution_count": 5,
   "metadata": {},
   "outputs": [
    {
     "name": "stdout",
     "output_type": "stream",
     "text": [
      "+-------+--------+---------+\n",
      "| userid|artistid|playcount|\n",
      "+-------+--------+---------+\n",
      "|1000002|       1|       55|\n",
      "|1000002| 1000006|       33|\n",
      "|1000002| 1000007|        8|\n",
      "|1000002| 1000009|      144|\n",
      "|1000002| 1000010|      314|\n",
      "+-------+--------+---------+\n",
      "only showing top 5 rows\n",
      "\n"
     ]
    }
   ],
   "source": [
    "parts = user_artist_data.map(lambda l: l.split(\" \"))\n",
    "logs = parts.map(lambda p: (int(p[0]), int(p[1]), int(p[2].strip())))\n",
    "user_artist_df = logs.toDF([\"userid\", \"artistid\", \"playcount\"])\n",
    "user_artist_df.show(5)"
   ]
  },
  {
   "cell_type": "code",
   "execution_count": 98,
   "metadata": {
    "scrolled": false
   },
   "outputs": [
    {
     "name": "stdout",
     "output_type": "stream",
     "text": [
      "+--------+--------------------+\n",
      "|artistid|                name|\n",
      "+--------+--------------------+\n",
      "| 1134999|        06Crazy Life|\n",
      "| 6821360|        Pang Nakarin|\n",
      "|10113088|Terfel, Bartoli- ...|\n",
      "|10151459| The Flaming Sidebur|\n",
      "| 6826647|   Bodenstandig 3000|\n",
      "+--------+--------------------+\n",
      "only showing top 5 rows\n",
      "\n"
     ]
    }
   ],
   "source": [
    "def helper(line):\n",
    "    pairs = line.split(\"\\t\")\n",
    "    return (pairs[0], pairs[1].strip()) if len(pairs) == 2 else (None, None)\n",
    "\n",
    "artist_by_id = artist_data.flatMap(lambda l: (helper(l), ))\n",
    "artist_df = artist_by_id.toDF(['artistid', 'name'])\n",
    "artist_df = artist_df.filter(artist_df.artistid != \"null\")\n",
    "artist_df.show(5)"
   ]
  },
  {
   "cell_type": "code",
   "execution_count": 100,
   "metadata": {
    "scrolled": false
   },
   "outputs": [
    {
     "name": "stdout",
     "output_type": "stream",
     "text": [
      "+--------+-------+\n",
      "|   badid| goodid|\n",
      "+--------+-------+\n",
      "| 1092764|1000311|\n",
      "| 1095122|1000557|\n",
      "| 6708070|1007267|\n",
      "|10088054|1042317|\n",
      "| 1195917|1042317|\n",
      "+--------+-------+\n",
      "only showing top 5 rows\n",
      "\n"
     ]
    }
   ],
   "source": [
    "def helper2(line):\n",
    "    tokens = line.split(\"\\t\")  \n",
    "    return (tokens[0], tokens[1].strip()) if tokens[0] else (None, None)   \n",
    "    \n",
    "bad_good = artist_alias_data.flatMap(lambda l: (helper2(l), ))\n",
    "artist_alias_df = bad_good.toDF(['badid', 'goodid'])\n",
    "artist_alias_df = artist_alias_df.filter(artist_alias_df.badid != \"null\")\n",
    "artist_alias_df.show(5)"
   ]
  },
  {
   "cell_type": "code",
   "execution_count": null,
   "metadata": {
    "collapsed": true
   },
   "outputs": [],
   "source": []
  }
 ],
 "metadata": {
  "kernelspec": {
   "display_name": "Python 3",
   "language": "python",
   "name": "python3"
  },
  "language_info": {
   "codemirror_mode": {
    "name": "ipython",
    "version": 3
   },
   "file_extension": ".py",
   "mimetype": "text/x-python",
   "name": "python",
   "nbconvert_exporter": "python",
   "pygments_lexer": "ipython3",
   "version": "3.6.1"
  }
 },
 "nbformat": 4,
 "nbformat_minor": 2
}
