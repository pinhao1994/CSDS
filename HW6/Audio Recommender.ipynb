{
 "cells": [
  {
   "cell_type": "markdown",
   "metadata": {},
   "source": [
    "# Audio Recommender\n",
    "### Pin-Hao Chen (phc2121) | Sharon Tsao (sjt2141)"
   ]
  },
  {
   "cell_type": "code",
   "execution_count": 1,
   "metadata": {
    "collapsed": true
   },
   "outputs": [],
   "source": [
    "from pyspark.mllib.recommendation import *\n",
    "from operator import *\n",
    "from pyspark.sql.types import *"
   ]
  },
  {
   "cell_type": "code",
   "execution_count": 2,
   "metadata": {
    "collapsed": true
   },
   "outputs": [],
   "source": [
    "rawUserArtistData = sc.textFile(\"profiledata_06-May-2005/user_artist_data.txt\")\n",
    "rawArtistData = sc.textFile(\"profiledata_06-May-2005/artist_data.txt\")\n",
    "rawArtistAlias = sc.textFile(\"profiledata_06-May-2005/artist_alias.txt\")"
   ]
  },
  {
   "cell_type": "code",
   "execution_count": 3,
   "metadata": {
    "collapsed": true,
    "scrolled": false
   },
   "outputs": [],
   "source": [
    "def helper1(line):\n",
    "    pairs = line.split(\"\\t\")\n",
    "    return (pairs[0], pairs[1].strip()) if len(pairs) == 2 else (None, None)\n",
    "\n",
    "artistByID = rawArtistData.flatMap(lambda l: (helper1(l), ))\n",
    "artist_df = artistByID.toDF(['artistid', 'name'])\n",
    "artist_df = artist_df.filter(artist_df.artistid != \"null\")\n",
    "# artist_df.show(5)"
   ]
  },
  {
   "cell_type": "code",
   "execution_count": 4,
   "metadata": {
    "collapsed": true,
    "scrolled": false
   },
   "outputs": [],
   "source": [
    "def helper2(line):\n",
    "    tokens = line.split(\"\\t\")  \n",
    "    return (tokens[0], tokens[1].strip()) if tokens[0] else (None, None)   \n",
    "    \n",
    "bad_good = rawArtistAlias.flatMap(lambda l: (helper2(l), ))\n",
    "artistAlias = bad_good.collectAsMap()\n",
    "artistAlias.pop(None, None)\n",
    "# artist_alias_df = bad_good.toDF(['badid', 'goodid'])\n",
    "# artist_alias_df = artist_alias_df.filter(artist_alias_df.badid != \"null\")\n",
    "# artist_alias_df.show(5)"
   ]
  },
  {
   "cell_type": "code",
   "execution_count": 5,
   "metadata": {
    "collapsed": true
   },
   "outputs": [],
   "source": [
    "def helper3(line):\n",
    "    userID, artistID, count = line.split(\" \")\n",
    "    finalArtistID = artistID\n",
    "    if artistID in bArtistAlias.value:\n",
    "        finalArtistID = bArtistAlias.value[artistID]\n",
    "    return Rating(int(userID), int(finalArtistID), int(count))\n",
    "\n",
    "bArtistAlias = sc.broadcast(artistAlias)\n",
    "trainData = rawUserArtistData.map(lambda l: helper3(l)).cache()\n",
    "#userArtist_df = trainData.toDF([\"userid\", \"artistid\", \"playcount\"])"
   ]
  },
  {
   "cell_type": "code",
   "execution_count": 6,
   "metadata": {
    "collapsed": true
   },
   "outputs": [],
   "source": [
    "model = ALS.trainImplicit(trainData, 10, iterations=5, lambda_=0.01, blocks=1)"
   ]
  },
  {
   "cell_type": "code",
   "execution_count": 7,
   "metadata": {
    "collapsed": true
   },
   "outputs": [],
   "source": [
    "target_user = 2093760\n",
    "recommendations = model.recommendProducts(target_user, 10)"
   ]
  },
  {
   "cell_type": "code",
   "execution_count": 8,
   "metadata": {},
   "outputs": [
    {
     "data": {
      "text/plain": [
       "[Rating(user=2093760, product=1007614, rating=0.03586678662102625),\n",
       " Rating(user=2093760, product=4605, rating=0.03431157685151171),\n",
       " Rating(user=2093760, product=2814, rating=0.03352224554775464),\n",
       " Rating(user=2093760, product=1037970, rating=0.032523810056845674),\n",
       " Rating(user=2093760, product=829, rating=0.03213284150739629),\n",
       " Rating(user=2093760, product=1001819, rating=0.032074268863427624),\n",
       " Rating(user=2093760, product=1811, rating=0.03041561913936728),\n",
       " Rating(user=2093760, product=250, rating=0.02903475223594766),\n",
       " Rating(user=2093760, product=930, rating=0.02745748509540613),\n",
       " Rating(user=2093760, product=1003249, rating=0.02676261953314412)]"
      ]
     },
     "execution_count": 8,
     "metadata": {},
     "output_type": "execute_result"
    }
   ],
   "source": [
    "recommendations"
   ]
  },
  {
   "cell_type": "code",
   "execution_count": 9,
   "metadata": {},
   "outputs": [
    {
     "data": {
      "text/plain": [
       "{250, 829, 930, 1811, 2814, 4605, 1001819, 1003249, 1007614, 1037970}"
      ]
     },
     "execution_count": 9,
     "metadata": {},
     "output_type": "execute_result"
    }
   ],
   "source": [
    "recommendedProductIDs = set(map(lambda r: r.product, recommendations))\n",
    "recommendedProductIDs"
   ]
  },
  {
   "cell_type": "code",
   "execution_count": 10,
   "metadata": {
    "scrolled": false
   },
   "outputs": [
    {
     "data": {
      "text/plain": [
       "{'2Pac',\n",
       " '50 Cent',\n",
       " 'Dr. Dre',\n",
       " 'Eminem',\n",
       " 'Jay-Z',\n",
       " 'Kanye West',\n",
       " 'Ludacris',\n",
       " 'Nas',\n",
       " 'Outkast',\n",
       " 'Snoop Dogg'}"
      ]
     },
     "execution_count": 10,
     "metadata": {},
     "output_type": "execute_result"
    }
   ],
   "source": [
    "rmd_lt = set(map(lambda e: e.name, artist_df.filter(artist_df.artistid.isin(recommendedProductIDs)).collect()))\n",
    "rmd_lt"
   ]
  },
  {
   "cell_type": "code",
   "execution_count": null,
   "metadata": {
    "collapsed": true
   },
   "outputs": [],
   "source": []
  }
 ],
 "metadata": {
  "kernelspec": {
   "display_name": "Python 3",
   "language": "python",
   "name": "python3"
  },
  "language_info": {
   "codemirror_mode": {
    "name": "ipython",
    "version": 3
   },
   "file_extension": ".py",
   "mimetype": "text/x-python",
   "name": "python",
   "nbconvert_exporter": "python",
   "pygments_lexer": "ipython3",
   "version": "3.6.1"
  }
 },
 "nbformat": 4,
 "nbformat_minor": 2
}
