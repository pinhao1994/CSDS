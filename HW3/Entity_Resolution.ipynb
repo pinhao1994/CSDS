{
 "cells": [
  {
   "cell_type": "code",
   "execution_count": 1,
   "metadata": {
    "collapsed": true
   },
   "outputs": [],
   "source": [
    "import pandas as pd\n",
    "import numpy as np\n",
    "import json, csv, re"
   ]
  },
  {
   "cell_type": "code",
   "execution_count": 2,
   "metadata": {},
   "outputs": [
    {
     "data": {
      "text/plain": [
       "'\\nThis assignment can be done in groups of 3 students. Everyone must submit individually.\\n\\nWrite down the UNIs of your group (if applicable)\\n\\nName : Pin-Hao Chen \\nUni  : phc2121\\n\\nMember 2: Pin-Hao Chen, phc2121\\n\\nMember 3: Sharon Jong Shiuan Tsao, sjt2141\\n'"
      ]
     },
     "execution_count": 2,
     "metadata": {},
     "output_type": "execute_result"
    }
   ],
   "source": [
    "\"\"\"\n",
    "This assignment can be done in groups of 3 students. Everyone must submit individually.\n",
    "\n",
    "Write down the UNIs of your group (if applicable)\n",
    "\n",
    "Name : Pin-Hao Chen \n",
    "Uni  : phc2121\n",
    "\n",
    "Member 2: Sharon Jong Shiuan Tsao, sjt2141\n",
    "\n",
    "Member 3: N/A\n",
    "\"\"\""
   ]
  },
  {
   "cell_type": "code",
   "execution_count": 3,
   "metadata": {
    "collapsed": true
   },
   "outputs": [],
   "source": [
    "def preprocess(df, preselected_features):\n",
    "    tmp = df.copy()\n",
    "    tmp = tmp.drop(columns=preselected_features)\n",
    "    \n",
    "    \"\"\"Phone Number Format\"\"\"\n",
    "    for i, phone_num in enumerate(tmp.phone):\n",
    "        if not phone_num:\n",
    "            tmp.loc[i, \"phone\"] = np.NAN\n",
    "        else:\n",
    "            tmp.loc[i, \"phone\"] = phone_num.replace(\" \",\"\").replace(\"(\",\"\").replace(\")\",\"\").replace(\"-\", \"\")\n",
    "    \n",
    "    \"\"\"Address Format\"\"\"\n",
    "    for i, address in enumerate(tmp.street_address):\n",
    "        if not address:\n",
    "            tmp.loc[i, \"street_address\"] = np.NAN\n",
    "        else:\n",
    "            address = address.lower()\n",
    "            address = address.replace(\" east \", \" e. \").replace(\" west \", \" w. \")\n",
    "            if tmp.loc[i, \"locality\"]:\n",
    "                address += (\" %s\" % tmp.loc[i, \"locality\"].lower()) \n",
    "            tmp.loc[i, \"street_address\"] = address.replace(\".\", \"\")\n",
    "    tmp = tmp.drop(columns=[\"locality\"])\n",
    "    \n",
    "    \"\"\"Name Format (Titlize)\"\"\"\n",
    "    tmp.name = tmp.name.str.replace(\"\\'\",\"\").replace(\".\", \"\")\n",
    "    tmp.name = tmp.name.str.title()\n",
    "\n",
    "    \"\"\"Latitude & Longtitude Format (Round to 3 decimal points)\"\"\"\n",
    "    tmp = tmp.round({\"latitude\": 3, \"longitude\": 3})\n",
    "            \n",
    "    return tmp"
   ]
  },
  {
   "cell_type": "code",
   "execution_count": 4,
   "metadata": {
    "collapsed": true
   },
   "outputs": [],
   "source": [
    "def levDist(str0, str1):\n",
    "    m, n = len(str0), len(str1)\n",
    "    v0 = range(n+1)\n",
    "    v1 = [None] * (n+1) \n",
    "\n",
    "    for i in range(m):\n",
    "        v1[0] = i + 1\n",
    "        for j in range(n):\n",
    "            deletion_cost = v0[j+1] + 1\n",
    "            insertion_cost = v1[j] + 1\n",
    "            if str0[i] == str1[j]:\n",
    "                substitution_cost = v0[j]\n",
    "            else:\n",
    "                substitution_cost = v0[j] + 1\n",
    "            v1[j+1] = min(deletion_cost, insertion_cost, substitution_cost)\n",
    "        v0 = list(v1)\n",
    "    \n",
    "    score = 1 - (v0[-1] / v0[0])\n",
    "    return score"
   ]
  },
  {
   "cell_type": "code",
   "execution_count": 5,
   "metadata": {
    "collapsed": true
   },
   "outputs": [],
   "source": [
    "def modelComparsion(df_locu, df_foursquare, threshold):\n",
    "    df_locu = df_locu.copy()\n",
    "    df_foursquare = df_foursquare.copy()\n",
    "    matches = list() # {\"locu_id\": ..., \"foursquare_id\": ...}\n",
    " \n",
    "    for i, foursquare_id in enumerate(df_foursquare.id):\n",
    "        candidate = \"\"\n",
    "        max_score = threshold\n",
    "        for j, locu_id in enumerate(df_locu.id):\n",
    "            score = 0                    \n",
    "            if df_foursquare.loc[i, \"phone\"] == df_locu.loc[j, \"phone\"]:\n",
    "                score += 1\n",
    "            if df_foursquare.loc[i, \"street_address\"] == df_locu.loc[j, \"street_address\"]:\n",
    "                score += 1\n",
    "            if df_foursquare.loc[i, \"latitude\"] == df_locu.loc[j, \"latitude\"] and df_foursquare.loc[i, \"longitude\"] == df_locu.loc[j, \"longitude\"]:\n",
    "                score += 0.5\n",
    "\n",
    "            score += levDist(df_foursquare.loc[i, \"name\"], df_locu.loc[j, \"name\"])\n",
    "                    \n",
    "            if score > max_score:\n",
    "                candidate = locu_id\n",
    "                max_score = score\n",
    "        # Comparsion complete\n",
    "        if candidate:\n",
    "            matches.append({\"locu_id\": candidate, \"foursquare_id\": foursquare_id})\n",
    "            df_locu = df_locu.drop(df_locu[df_locu.id == candidate].index)\n",
    "            df_locu.index = range(len(df_locu))\n",
    "        #print(matches)\n",
    "    return pd.DataFrame(data=matches, columns=[\"locu_id\", \"foursquare_id\"])"
   ]
  },
  {
   "cell_type": "code",
   "execution_count": 6,
   "metadata": {
    "collapsed": true
   },
   "outputs": [],
   "source": [
    "def confusionMatrix(df_pred, df_real):\n",
    "    df_pred = df_pred.copy()\n",
    "    df_real = df_real.copy()\n",
    "    TP = FP = FN = 0\n",
    "    for i, pred in df_pred.iterrows():\n",
    "        if len(df_real[(df_real.locu_id == pred.locu_id)]) > 0:\n",
    "            if len(df_real[(df_real.locu_id == pred.locu_id) & (df_real.foursquare_id == pred.foursquare_id)]) > 0:\n",
    "                TP += 1\n",
    "            else:\n",
    "                FP += 1\n",
    "            df_real = df_real.drop(df_real[df_real.locu_id == pred.locu_id].index)\n",
    "        else:\n",
    "            FP += 1\n",
    "    FN = len(df_real)\n",
    "\n",
    "    return TP, FP, FN "
   ]
  },
  {
   "cell_type": "code",
   "execution_count": 7,
   "metadata": {
    "collapsed": true
   },
   "outputs": [],
   "source": [
    "def get_matches(locu_train_path, foursquare_train_path, matches_train_path, locu_test_path, foursquare_test_path):\n",
    "    \"\"\"\n",
    "        In this function, You need to design your own algorithm or model to find the matches and generate\n",
    "        a matches_test.csv in the current folder.\n",
    "\n",
    "        you are given locu_train, foursquare_train json file path and matches_train.csv path to train\n",
    "        your model or algorithm.\n",
    "\n",
    "        Then you should test your model or algorithm with locu_test and foursquare_test json file.\n",
    "        Make sure that you write the test matches to a file in the same directory called matches_test.csv.\n",
    "\n",
    "    \"\"\"\n",
    "    \n",
    "    \"\"\"train data\"\"\"\n",
    "    locu_train = pd.read_json(locu_train_path)\n",
    "    foursquare_train = pd.read_json(foursquare_train_path)\n",
    "    matches_train = pd.read_csv(matches_train_path) # label (results) to compute precision, recall, and F1-score\n",
    "    \n",
    "    \"\"\"preprocess\"\"\"\n",
    "    preselected_features = [\"country\", \"region\", \"website\", \"postal_code\"]\n",
    "    locu_train = preprocess(locu_train, preselected_features)\n",
    "    foursquare_train = preprocess(foursquare_train, preselected_features)\n",
    "\n",
    "    \"\"\"build the model\"\"\"\n",
    "    metric = {\"precision\": [], \"recall\": [], \"f1\": []}\n",
    "    params = [0.5, 0.6, 0.7, 0.75, 0.775, 0.8, 0.9]\n",
    "    for threshold in params:\n",
    "        matches = modelComparsion(locu_train, foursquare_train, threshold)\n",
    "\n",
    "        \"\"\"calculate Precision, Recall, and F1-socre\"\"\"\n",
    "        TP, FP, FN = confusionMatrix(matches, matches_train)\n",
    "        #print(TP, FP, FN)\n",
    "        precision = TP/(TP+FP)\n",
    "        recall = TP/(TP+FN)\n",
    "        f1_score = (2*precision*recall)/(precision+recall)\n",
    "        print(\"\\nThreshold: %s\" % threshold)\n",
    "        print(\"Precision: %.4f\" % precision)\n",
    "        print(\"Recall: %.4f\" % recall)\n",
    "        print(\"F1 score: %.4f\" % f1_score)\n",
    "        \n",
    "        metric[\"precision\"].append(precision)\n",
    "        metric[\"recall\"].append(recall)\n",
    "        metric[\"f1\"].append(f1_score)\n",
    "    \n",
    "    \"\"\"test data\"\"\"\n",
    "    locu_test = pd.read_json(locu_test_path)\n",
    "    foursquare_test = pd.read_json(foursquare_test_path)\n",
    "    \n",
    "    locu_test = preprocess(locu_test, preselected_features)\n",
    "    foursquare_test = preprocess(foursquare_test, preselected_features)\n",
    "    \n",
    "    \"\"\"test the model\"\"\"\n",
    "    matches_test = modelComparsion(locu_test, foursquare_test,  params[np.argmax(metric[\"f1\"])])\n",
    "    \n",
    "    \"\"\"output the result\"\"\"\n",
    "    matches_test.to_csv(\"matches_test.csv\", index=False)\n",
    "    \n",
    "    return matches_test, metric"
   ]
  },
  {
   "cell_type": "code",
   "execution_count": 8,
   "metadata": {
    "scrolled": false
   },
   "outputs": [
    {
     "name": "stdout",
     "output_type": "stream",
     "text": [
      "\n",
      "Threshold: 0.5\n",
      "Precision: 0.8472\n",
      "Recall: 0.9814\n",
      "F1 score: 0.9094\n",
      "\n",
      "Threshold: 0.6\n",
      "Precision: 0.9016\n",
      "Recall: 0.9763\n",
      "F1 score: 0.9375\n",
      "\n",
      "Threshold: 0.7\n",
      "Precision: 0.9690\n",
      "Recall: 0.9773\n",
      "F1 score: 0.9731\n",
      "\n",
      "Threshold: 0.75\n",
      "Precision: 0.9774\n",
      "Recall: 0.9774\n",
      "F1 score: 0.9774\n",
      "\n",
      "Threshold: 0.775\n",
      "Precision: 0.9830\n",
      "Recall: 0.9774\n",
      "F1 score: 0.9802\n",
      "\n",
      "Threshold: 0.8\n",
      "Precision: 0.9829\n",
      "Recall: 0.9746\n",
      "F1 score: 0.9787\n",
      "\n",
      "Threshold: 0.9\n",
      "Precision: 0.9829\n",
      "Recall: 0.9718\n",
      "F1 score: 0.9773\n"
     ]
    }
   ],
   "source": [
    "matches_test, metric = get_matches(\"locu_train.json\", \"foursquare_train.json\", \"matches_train.csv\", \"locu_test.json\", \"foursquare_test.json\")"
   ]
  },
  {
   "cell_type": "code",
   "execution_count": 10,
   "metadata": {},
   "outputs": [
    {
     "data": {
      "image/png": "[encoded data removed]",
      "text/plain": [
       "<matplotlib.figure.Figure at 0x11137e5c0>"
      ]
     },
     "metadata": {},
     "output_type": "display_data"
    }
   ],
   "source": [
    "import matplotlib.pyplot as plt\n",
    "x_axis = [0.5, 0.6, 0.7, 0.75, 0.775, 0.8, 0.9]\n",
    "plt.plot(x_axis, metric[\"precision\"], label=\"Precision\")\n",
    "plt.plot(x_axis, metric[\"recall\"], label=\"Recall\")\n",
    "plt.plot(x_axis, metric[\"f1\"], label=\"f1 Score\")\n",
    "plt.legend()\n",
    "plt.title(\"Precision, Recall, f1 score on Threshold\")\n",
    "plt.xlabel(\"Threshold\")\n",
    "plt.show()"
   ]
  },
  {
   "cell_type": "code",
   "execution_count": null,
   "metadata": {
    "collapsed": true
   },
   "outputs": [],
   "source": []
  },
  {
   "cell_type": "code",
   "execution_count": null,
   "metadata": {
    "collapsed": true
   },
   "outputs": [],
   "source": []
  }
 ],
 "metadata": {
  "kernelspec": {
   "display_name": "Python 3",
   "language": "python",
   "name": "python3"
  },
  "language_info": {
   "codemirror_mode": {
    "name": "ipython",
    "version": 3
   },
   "file_extension": ".py",
   "mimetype": "text/x-python",
   "name": "python",
   "nbconvert_exporter": "python",
   "pygments_lexer": "ipython3",
   "version": "3.6.1"
  }
 },
 "nbformat": 4,
 "nbformat_minor": 2
}
